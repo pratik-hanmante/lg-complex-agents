{
 "cells": [
  {
   "cell_type": "code",
   "execution_count": 1,
   "id": "0718bb40",
   "metadata": {},
   "outputs": [
    {
     "data": {
      "text/plain": [
       "1234"
      ]
     },
     "execution_count": 1,
     "metadata": {},
     "output_type": "execute_result"
    }
   ],
   "source": [
    "1234"
   ]
  },
  {
   "cell_type": "code",
   "execution_count": null,
   "id": "682013dc",
   "metadata": {},
   "outputs": [],
   "source": []
  },
  {
   "cell_type": "code",
   "execution_count": 5,
   "id": "210df688",
   "metadata": {},
   "outputs": [],
   "source": [
    "##subtitle "
   ]
  },
  {
   "cell_type": "markdown",
   "id": "26d3aa54",
   "metadata": {},
   "source": [
    "23456"
   ]
  },
  {
   "cell_type": "markdown",
   "id": "c722ca4d",
   "metadata": {},
   "source": [
    "## subtitle"
   ]
  },
  {
   "cell_type": "markdown",
   "id": "d1b5436b",
   "metadata": {},
   "source": [
    "hello"
   ]
  },
  {
   "cell_type": "markdown",
   "id": "2bea9783",
   "metadata": {},
   "source": []
  },
  {
   "cell_type": "markdown",
   "id": "3fbf1af5",
   "metadata": {},
   "source": [
    "## Hello world"
   ]
  },
  {
   "cell_type": "code",
   "execution_count": 7,
   "id": "a810f330",
   "metadata": {},
   "outputs": [
    {
     "name": "stdout",
     "output_type": "stream",
     "text": [
      "hello world\n"
     ]
    }
   ],
   "source": [
    "print(\"hello world\")"
   ]
  },
  {
   "cell_type": "code",
   "execution_count": 8,
   "id": "5dfc5a7e",
   "metadata": {},
   "outputs": [
    {
     "name": "stdout",
     "output_type": "stream",
     "text": [
      "harshada\n"
     ]
    }
   ],
   "source": [
    "print(\"harshada\")"
   ]
  },
  {
   "cell_type": "code",
   "execution_count": 9,
   "id": "353c8d74",
   "metadata": {},
   "outputs": [
    {
     "name": "stdout",
     "output_type": "stream",
     "text": [
      "harshada\n"
     ]
    }
   ],
   "source": [
    "#printing my name\n",
    "print(\"harshada\")"
   ]
  },
  {
   "cell_type": "code",
   "execution_count": 18,
   "id": "bd60f921",
   "metadata": {},
   "outputs": [
    {
     "name": "stdout",
     "output_type": "stream",
     "text": [
      "HELLO WORLD\n",
      "hello world\n",
      "Hello World\n"
     ]
    }
   ],
   "source": [
    "print(\"hello world\".upper())\n",
    "print(\"hello world\".lower())\n",
    "print(\"hello world\".title())\n"
   ]
  },
  {
   "cell_type": "code",
   "execution_count": 11,
   "id": "93d0deee",
   "metadata": {},
   "outputs": [
    {
     "data": {
      "text/plain": [
       "'hello world'"
      ]
     },
     "execution_count": 11,
     "metadata": {},
     "output_type": "execute_result"
    }
   ],
   "source": [
    "\"hello world\".lower()"
   ]
  },
  {
   "cell_type": "markdown",
   "id": "a9daee5e",
   "metadata": {},
   "source": [
    "### Variables"
   ]
  },
  {
   "cell_type": "code",
   "execution_count": 14,
   "id": "3aabb69d",
   "metadata": {},
   "outputs": [],
   "source": [
    "message_1 = \"im learning python\""
   ]
  },
  {
   "cell_type": "code",
   "execution_count": 16,
   "id": "d0b7880f",
   "metadata": {},
   "outputs": [
    {
     "data": {
      "text/plain": [
       "\"and it's fun!\""
      ]
     },
     "execution_count": 16,
     "metadata": {},
     "output_type": "execute_result"
    }
   ],
   "source": [
    "message_2 = \"and it's fun!\"\n",
    "message_2"
   ]
  },
  {
   "cell_type": "code",
   "execution_count": 17,
   "id": "890e88b5",
   "metadata": {},
   "outputs": [
    {
     "data": {
      "text/plain": [
       "'i love myself'"
      ]
     },
     "execution_count": 17,
     "metadata": {},
     "output_type": "execute_result"
    }
   ],
   "source": [
    "message_3 = \"i love myself\"\n",
    "message_3"
   ]
  },
  {
   "cell_type": "code",
   "execution_count": 19,
   "id": "6a87546f",
   "metadata": {},
   "outputs": [
    {
     "data": {
      "text/plain": [
       "\"i'm learning python \""
      ]
     },
     "execution_count": 19,
     "metadata": {},
     "output_type": "execute_result"
    }
   ],
   "source": [
    "\"i'm learning python \""
   ]
  },
  {
   "cell_type": "code",
   "execution_count": 20,
   "id": "b559a83c",
   "metadata": {},
   "outputs": [
    {
     "data": {
      "text/plain": [
       "\"im learning pythonand it's fun!\""
      ]
     },
     "execution_count": 20,
     "metadata": {},
     "output_type": "execute_result"
    }
   ],
   "source": [
    "message_1 + message_2\n",
    "\n",
    "\n",
    "\n",
    "\n",
    "\n",
    "\n",
    "\n",
    "\n",
    "\n",
    "\n",
    "\n",
    "\n",
    "\n",
    "\n",
    "\n",
    "\n",
    "\n",
    "\n",
    "\n",
    "\n",
    "\n"
   ]
  },
  {
   "cell_type": "code",
   "execution_count": 21,
   "id": "3a9d97b3",
   "metadata": {},
   "outputs": [
    {
     "data": {
      "text/plain": [
       "\"im learning python and it's fun!\""
      ]
     },
     "execution_count": 21,
     "metadata": {},
     "output_type": "execute_result"
    }
   ],
   "source": [
    "message_1 + ' ' + message_2 "
   ]
  },
  {
   "cell_type": "code",
   "execution_count": 23,
   "id": "39f05561",
   "metadata": {},
   "outputs": [
    {
     "data": {
      "text/plain": [
       "\"im learning python and it's fun!\""
      ]
     },
     "execution_count": 23,
     "metadata": {},
     "output_type": "execute_result"
    }
   ],
   "source": [
    "f'{message_1} {message_2}'"
   ]
  },
  {
   "cell_type": "markdown",
   "id": "bfe609ac",
   "metadata": {},
   "source": [
    "## List"
   ]
  },
  {
   "cell_type": "code",
   "execution_count": 27,
   "id": "2db0bb76",
   "metadata": {},
   "outputs": [
    {
     "data": {
      "text/plain": [
       "['India', 'China', 'Brazil']"
      ]
     },
     "execution_count": 27,
     "metadata": {},
     "output_type": "execute_result"
    }
   ],
   "source": [
    "countries = ['India' , 'China' ,'Brazil']\n",
    "countries"
   ]
  },
  {
   "cell_type": "code",
   "execution_count": 28,
   "id": "c76c823e",
   "metadata": {},
   "outputs": [
    {
     "name": "stdout",
     "output_type": "stream",
     "text": [
      "India\n",
      "China\n",
      "Brazil\n"
     ]
    }
   ],
   "source": [
    "print(countries[0])\n",
    "print(countries[1])\n",
    "print(countries[2])"
   ]
  },
  {
   "cell_type": "code",
   "execution_count": 29,
   "id": "e4d50f92",
   "metadata": {},
   "outputs": [
    {
     "data": {
      "text/plain": [
       "'Brazil'"
      ]
     },
     "execution_count": 29,
     "metadata": {},
     "output_type": "execute_result"
    }
   ],
   "source": [
    "countries[-1]"
   ]
  },
  {
   "cell_type": "code",
   "execution_count": 30,
   "id": "7b545d5e",
   "metadata": {},
   "outputs": [
    {
     "data": {
      "text/plain": [
       "'India'"
      ]
     },
     "execution_count": 30,
     "metadata": {},
     "output_type": "execute_result"
    }
   ],
   "source": [
    "countries[-3]"
   ]
  },
  {
   "cell_type": "code",
   "execution_count": null,
   "id": "133d7179",
   "metadata": {},
   "outputs": [],
   "source": [
    "# slicing\n",
    "list_name[start:stop]"
   ]
  },
  {
   "cell_type": "code",
   "execution_count": 31,
   "id": "9e723809",
   "metadata": {},
   "outputs": [
    {
     "data": {
      "text/plain": [
       "['India', 'China']"
      ]
     },
     "execution_count": 31,
     "metadata": {},
     "output_type": "execute_result"
    }
   ],
   "source": [
    "countries[0:2]"
   ]
  },
  {
   "cell_type": "code",
   "execution_count": null,
   "id": "2015b755",
   "metadata": {},
   "outputs": [],
   "source": []
  },
  {
   "cell_type": "markdown",
   "id": "097a78e0",
   "metadata": {},
   "source": [
    "## adding element to a list"
   ]
  },
  {
   "cell_type": "markdown",
   "id": "e0fd10d0",
   "metadata": {},
   "source": [
    "countries"
   ]
  },
  {
   "cell_type": "code",
   "execution_count": 33,
   "id": "1ed90e34",
   "metadata": {},
   "outputs": [
    {
     "data": {
      "text/plain": [
       "['India', 'China', 'Brazil']"
      ]
     },
     "execution_count": 33,
     "metadata": {},
     "output_type": "execute_result"
    }
   ],
   "source": [
    "countries"
   ]
  },
  {
   "cell_type": "code",
   "execution_count": 34,
   "id": "de779474",
   "metadata": {},
   "outputs": [],
   "source": [
    "countries.append ('canada')"
   ]
  },
  {
   "cell_type": "code",
   "execution_count": 35,
   "id": "3ffbb3fe",
   "metadata": {},
   "outputs": [
    {
     "data": {
      "text/plain": [
       "['India', 'China', 'Brazil', 'canada']"
      ]
     },
     "execution_count": 35,
     "metadata": {},
     "output_type": "execute_result"
    }
   ],
   "source": [
    "countries"
   ]
  },
  {
   "cell_type": "code",
   "execution_count": 36,
   "id": "bfb42e6c",
   "metadata": {},
   "outputs": [
    {
     "data": {
      "text/plain": [
       "['Spain', 'India', 'China', 'Brazil', 'canada']"
      ]
     },
     "execution_count": 36,
     "metadata": {},
     "output_type": "execute_result"
    }
   ],
   "source": [
    "countries.insert(0,  'Spain')\n",
    "countries"
   ]
  },
  {
   "cell_type": "code",
   "execution_count": 37,
   "id": "68d1b208",
   "metadata": {},
   "outputs": [
    {
     "data": {
      "text/plain": [
       "['Spain', 'India', 'China', 'Brazil', 'canada', 'UK', 'GERMANY', 'AUSTRIA']"
      ]
     },
     "execution_count": 37,
     "metadata": {},
     "output_type": "execute_result"
    }
   ],
   "source": [
    "countries_2 = ['UK', 'GERMANY', 'AUSTRIA']\n",
    "countries + countries_2"
   ]
  },
  {
   "cell_type": "code",
   "execution_count": 38,
   "id": "1c0b20c5",
   "metadata": {},
   "outputs": [
    {
     "data": {
      "text/plain": [
       "[['Spain', 'India', 'China', 'Brazil', 'canada'], ['UK', 'GERMANY', 'AUSTRIA']]"
      ]
     },
     "execution_count": 38,
     "metadata": {},
     "output_type": "execute_result"
    }
   ],
   "source": [
    "nested_list = [countries, countries_2]\n",
    "nested_list"
   ]
  },
  {
   "cell_type": "code",
   "execution_count": null,
   "id": "586479ea",
   "metadata": {},
   "outputs": [],
   "source": []
  },
  {
   "cell_type": "markdown",
   "id": "b6cf7569",
   "metadata": {},
   "source": [
    "## removing an element"
   ]
  }
 ],
 "metadata": {
  "kernelspec": {
   "display_name": "Python 3",
   "language": "python",
   "name": "python3"
  },
  "language_info": {
   "codemirror_mode": {
    "name": "ipython",
    "version": 3
   },
   "file_extension": ".py",
   "mimetype": "text/x-python",
   "name": "python",
   "nbconvert_exporter": "python",
   "pygments_lexer": "ipython3",
   "version": "3.12.11"
  }
 },
 "nbformat": 4,
 "nbformat_minor": 5
}
