{
 "cells": [
  {
   "cell_type": "code",
   "execution_count": 13,
   "id": "5400ee81",
   "metadata": {},
   "outputs": [],
   "source": [
    "from typing import Dict, TypedDict\n",
    "from langgraph.graph import StateGraph "
   ]
  },
  {
   "cell_type": "code",
   "execution_count": 14,
   "id": "82139446",
   "metadata": {},
   "outputs": [],
   "source": [
    "# Define the shape of the dictionary\n",
    "class AgentState(TypedDict): \n",
    "    message: str\n",
    "\n",
    "# Define a function that updates the message\n",
    "def greeting_node(state: AgentState) -> AgentState:\n",
    "    \"\"\"Simple node that adds the greeting message to state\"\"\"\n",
    "    state['message'] = \"Hey \" + state[\"message\"] + \", how was your day going\"\n",
    "    return state\n"
   ]
  },
  {
   "cell_type": "code",
   "execution_count": 15,
   "id": "c73e2b0f",
   "metadata": {},
   "outputs": [],
   "source": [
    "graph = StateGraph(AgentState)\n",
    "\n",
    "# adding greeting node function to the graph\n",
    "\n",
    "graph.add_node(\"greeter\", greeting_node)\n",
    "\n",
    "graph.set_entry_point(\"greeter\")\n",
    "graph.set_finish_point(\"greeter\")\n",
    "\n",
    "app = graph.compile()"
   ]
  },
  {
   "cell_type": "code",
   "execution_count": 16,
   "id": "d51ea4f9",
   "metadata": {},
   "outputs": [],
   "source": [
    "result = app.invoke({\"message\" : \"sameer\"})"
   ]
  },
  {
   "cell_type": "code",
   "execution_count": 17,
   "id": "276e9150",
   "metadata": {},
   "outputs": [
    {
     "data": {
      "text/plain": [
       "'Hey sameer, how was your day going'"
      ]
     },
     "execution_count": 17,
     "metadata": {},
     "output_type": "execute_result"
    }
   ],
   "source": [
    "result[\"message\"]"
   ]
  }
 ],
 "metadata": {
  "kernelspec": {
   "display_name": "Python 3",
   "language": "python",
   "name": "python3"
  },
  "language_info": {
   "codemirror_mode": {
    "name": "ipython",
    "version": 3
   },
   "file_extension": ".py",
   "mimetype": "text/x-python",
   "name": "python",
   "nbconvert_exporter": "python",
   "pygments_lexer": "ipython3",
   "version": "3.12.11"
  }
 },
 "nbformat": 4,
 "nbformat_minor": 5
}
